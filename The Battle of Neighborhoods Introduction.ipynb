{
 "cells": [
  {
   "cell_type": "markdown",
   "metadata": {},
   "source": [
    "## Battle of Neighborhoods: Vancouver vs Toronto "
   ]
  },
  {
   "attachments": {},
   "cell_type": "markdown",
   "metadata": {},
   "source": [
    "<img src= \"https://www.websystemer.no/wp-content/uploads/2020/07/capstone-project-the-battle-of-neighborhoods.jpg\" >"
   ]
  },
  {
   "cell_type": "markdown",
   "metadata": {},
   "source": [
    "  ### 1. Introduction/Business Problem "
   ]
  },
  {
   "cell_type": "markdown",
   "metadata": {},
   "source": [
    "This project aims to compare the neighborhoods in two major cities __Vancouver__ and __Toronto.__ \n",
    "A multinational company headquatered in New York is planning for the growth of the company in Canadian provinces, and is thus in search of a place for its office. The company has two options available i.e either __Vancouver(British Columbia Province)__ or __Toronto(Ontario province)__. The company needs to determine better of the two cities for setting up the office. The comapany must consider various factors while deciding the neighborhoods. The company must choose a city with various facilities like:\n",
    "<ul>\n",
    "<li>It should be easy for employees to relocate.</li>\n",
    "<li>The neighborhoods must have schools, colleges for Employees family.</li>\n",
    "<li>Market needs should be satisified easily.</li>\n",
    "<li>Local business growth should be possible.</li>\n",
    "<li>Easy access to gyms/parks/refreshment activities places.</li>\n",
    "<li>IT culture atmosphere neighborhood.</li>\n",
    "<li>A neighborhood of better transport connectivity with rest part of city. </li>\n",
    "<li>Easy access to banks.</li>\n",
    "</ul>"
   ]
  },
  {
   "cell_type": "markdown",
   "metadata": {},
   "source": [
    "###  2. Data Source "
   ]
  },
  {
   "cell_type": "markdown",
   "metadata": {},
   "source": [
    "In this project I have used data from websites of local authorities of Vancouver and wikipedia for data of Toronto.\n",
    "I have used __Foursquare API__ which is a location data service provider and is used to fetch location data. I have used various libraries in completing the project such as:\n",
    "<ul>\n",
    "    <li> Numpy </li>\n",
    "    <li> Pandas </li>\n",
    "    <li> Nominatim </li>\n",
    "    <li> Folium </li>\n",
    "    <li> Json </li>\n",
    "    <li> Matplotlib </li>\n",
    "    <li> Requests </li>\n",
    "    <li> Beautiful Soup </li>\n",
    "    <li> Sklearn </li>\n",
    "</ul>\n",
    "\n",
    "Data sources used in the project: \n",
    "\n",
    "Vancouver data: https://opendata.vancouver.ca/explore/dataset/local-area-boundary/export/ <br>\n",
    "Toronto data: https://en.wikipedia.org/wiki/List_of_postal_codes_of_Canada:_M' ; http://cocl.us/Geospatial_data"
   ]
  },
  {
   "cell_type": "markdown",
   "metadata": {},
   "source": [
    "### 3. Methodology "
   ]
  },
  {
   "cell_type": "markdown",
   "metadata": {},
   "source": [
    "The data has been stored in __Pandas__ dataframe and analysed extensively. __Geopy__ library is used for fetching latitudes and longitudes.__Matplotlib__ and __Folium__ have been used for visualisation.__Beautiful Soup__ has been used to fetch data for web scraping of data for the project. Unsupervised Machine Learning Algorithm __KMeans__ has been used to cluster various neighborhoods based on venues so that conclusions can be drown out easily. "
   ]
  }
 ],
 "metadata": {
  "kernelspec": {
   "display_name": "Python 3",
   "language": "python",
   "name": "python3"
  },
  "language_info": {
   "codemirror_mode": {
    "name": "ipython",
    "version": 3
   },
   "file_extension": ".py",
   "mimetype": "text/x-python",
   "name": "python",
   "nbconvert_exporter": "python",
   "pygments_lexer": "ipython3",
   "version": "3.8.3"
  }
 },
 "nbformat": 4,
 "nbformat_minor": 4
}
